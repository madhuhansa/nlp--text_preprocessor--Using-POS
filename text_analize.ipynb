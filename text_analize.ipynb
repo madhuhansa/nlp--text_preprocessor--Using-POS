{
 "cells": [
  {
   "cell_type": "code",
   "execution_count": 89,
   "id": "c97ba0e1",
   "metadata": {},
   "outputs": [],
   "source": [
    "import spacy\n",
    "\n",
    "# Load English NLP pipeline\n",
    "nlp = spacy.load(\"en_core_web_sm\")\n",
    "\n",
    "text = \"Omg!!! I just tried the new burger at BurgerZone 😍🍔... soooo delicious!!! You guys HAVE to try it out!! 😭😭 It's like heaven in a bun. 😂😂 Check it out here: https://burgerzone.com/new-burger-deal 🔥🔥!!! Alsooo... I emailed them at foodlover@burgerzone.com for coupons 😏 #foodie #yum #bestburgerever 100/10 would recommend!!! 😋😋\"\n",
    "doc = nlp(text)"
   ]
  },
  {
   "cell_type": "code",
   "execution_count": 90,
   "id": "08c1d2fc",
   "metadata": {},
   "outputs": [
    {
     "name": "stdout",
     "output_type": "stream",
     "text": [
      "Omg| PROPN | proper noun | noun, proper singular | NNP\n",
      "!| PUNCT | punctuation | punctuation mark, sentence closer | .\n",
      "!| PUNCT | punctuation | punctuation mark, sentence closer | .\n",
      "!| PUNCT | punctuation | punctuation mark, sentence closer | .\n",
      "I| PRON | pronoun | pronoun, personal | PRP\n",
      "just| ADV | adverb | adverb | RB\n",
      "tried| VERB | verb | verb, past tense | VBD\n",
      "the| DET | determiner | determiner | DT\n",
      "new| ADJ | adjective | adjective (English), other noun-modifier (Chinese) | JJ\n",
      "burger| NOUN | noun | noun, singular or mass | NN\n",
      "at| ADP | adposition | conjunction, subordinating or preposition | IN\n",
      "BurgerZone| PROPN | proper noun | noun, proper singular | NNP\n",
      "😍| PROPN | proper noun | noun, proper singular | NNP\n",
      "🍔| PROPN | proper noun | noun, proper singular | NNP\n",
      "...| PUNCT | punctuation | punctuation mark, colon or ellipsis | :\n",
      "soooo| NOUN | noun | noun, singular or mass | NN\n",
      "delicious| PROPN | proper noun | noun, proper singular | NNP\n",
      "!| PUNCT | punctuation | punctuation mark, sentence closer | .\n",
      "!| PUNCT | punctuation | punctuation mark, sentence closer | .\n",
      "!| PUNCT | punctuation | punctuation mark, sentence closer | .\n",
      "You| PRON | pronoun | pronoun, personal | PRP\n",
      "guys| NOUN | noun | noun, plural | NNS\n",
      "HAVE| VERB | verb | verb, non-3rd person singular present | VBP\n",
      "to| PART | particle | infinitival \"to\" | TO\n",
      "try| VERB | verb | verb, base form | VB\n",
      "it| PRON | pronoun | pronoun, personal | PRP\n",
      "out| ADP | adposition | adverb, particle | RP\n",
      "!| PUNCT | punctuation | punctuation mark, sentence closer | .\n",
      "!| PUNCT | punctuation | punctuation mark, sentence closer | .\n",
      "😭| X | other | list item marker | LS\n",
      "😭| NOUN | noun | noun, singular or mass | NN\n",
      "It| PRON | pronoun | pronoun, personal | PRP\n",
      "'s| AUX | auxiliary | verb, 3rd person singular present | VBZ\n",
      "like| ADP | adposition | conjunction, subordinating or preposition | IN\n",
      "heaven| PROPN | proper noun | noun, proper singular | NNP\n",
      "in| ADP | adposition | conjunction, subordinating or preposition | IN\n",
      "a| DET | determiner | determiner | DT\n",
      "bun| NOUN | noun | noun, singular or mass | NN\n",
      ".| PUNCT | punctuation | punctuation mark, sentence closer | .\n",
      "😂| ADP | adposition | conjunction, subordinating or preposition | IN\n",
      "😂| X | other | list item marker | LS\n",
      "Check| VERB | verb | verb, non-3rd person singular present | VBP\n",
      "it| PRON | pronoun | pronoun, personal | PRP\n",
      "out| ADP | adposition | adverb, particle | RP\n",
      "here| ADV | adverb | adverb | RB\n",
      ":| PUNCT | punctuation | punctuation mark, colon or ellipsis | :\n",
      "https://burgerzone.com/new-burger-deal| PUNCT | punctuation | closing quotation mark | ''\n",
      "🔥| VERB | verb | verb, 3rd person singular present | VBZ\n",
      "🔥| NOUN | noun | noun, plural | NNS\n",
      "!| PUNCT | punctuation | punctuation mark, sentence closer | .\n",
      "!| PUNCT | punctuation | punctuation mark, sentence closer | .\n",
      "!| PUNCT | punctuation | punctuation mark, sentence closer | .\n",
      "Alsooo| PROPN | proper noun | noun, proper singular | NNP\n",
      "...| PUNCT | punctuation | punctuation mark, colon or ellipsis | :\n",
      "I| PRON | pronoun | pronoun, personal | PRP\n",
      "emailed| VERB | verb | verb, past tense | VBD\n",
      "them| PRON | pronoun | pronoun, personal | PRP\n",
      "at| ADP | adposition | conjunction, subordinating or preposition | IN\n",
      "foodlover@burgerzone.com| X | other | email | ADD\n",
      "for| SCONJ | subordinating conjunction | conjunction, subordinating or preposition | IN\n",
      "coupons| NOUN | noun | noun, plural | NNS\n",
      "😏| PROPN | proper noun | noun, proper singular | NNP\n",
      "#| SYM | symbol | symbol, currency | $\n",
      "foodie| VERB | verb | verb, non-3rd person singular present | VBP\n",
      "#| SYM | symbol | symbol, currency | $\n",
      "yum| NOUN | noun | noun, singular or mass | NN\n",
      "#| SYM | symbol | symbol, currency | $\n",
      "bestburgerever| NOUN | noun | noun, singular or mass | NN\n",
      "100/10| PROPN | proper noun | noun, proper singular | NNP\n",
      "would| AUX | auxiliary | verb, modal auxiliary | MD\n",
      "recommend| VERB | verb | verb, base form | VB\n",
      "!| PUNCT | punctuation | punctuation mark, sentence closer | .\n",
      "!| PUNCT | punctuation | punctuation mark, sentence closer | .\n",
      "!| PUNCT | punctuation | punctuation mark, sentence closer | .\n",
      "😋| NOUN | noun | noun, singular or mass | NN\n",
      "😋| NOUN | noun | noun, singular or mass | NN\n"
     ]
    }
   ],
   "source": [
    "for token in doc:\n",
    "    print(f\"{token.text}| {token.pos_} | {spacy.explain(token.pos_)} | {spacy.explain(token.tag_)} | {token.tag_}\")\n"
   ]
  },
  {
   "cell_type": "code",
   "execution_count": 91,
   "id": "17f44d17",
   "metadata": {},
   "outputs": [
    {
     "name": "stdout",
     "output_type": "stream",
     "text": [
      "Omg ! ! ! I just tried the new burger at BurgerZone ... soooo delicious ! ! ! You guys HAVE to try it out ! ! It 's like heaven in a bun . Check it out here : https://burgerzone.com/new-burger-deal ! ! ! Alsooo ... I emailed them at foodlover@burgerzone.com for coupons # foodie # yum # bestburgerever 100/10 would recommend ! ! !\n"
     ]
    }
   ],
   "source": [
    "import emoji\n",
    "\n",
    "# Function to check if a token is an emoji\n",
    "def is_emoji(token):\n",
    "    return any(char in emoji.EMOJI_DATA for char in token.text)\n",
    "\n",
    "# Remove emojis\n",
    "tokens_without_emojis = [token.text for token in doc if not is_emoji(token)]\n",
    "\n",
    "# Join back into text\n",
    "cleaned_text1 = \" \".join(tokens_without_emojis)\n",
    "\n",
    "print(cleaned_text1)"
   ]
  },
  {
   "cell_type": "code",
   "execution_count": 92,
   "id": "83a83f46",
   "metadata": {},
   "outputs": [],
   "source": [
    "doc2 = nlp(cleaned_text1)"
   ]
  },
  {
   "cell_type": "code",
   "execution_count": 93,
   "id": "0a31b98b",
   "metadata": {},
   "outputs": [
    {
     "name": "stdout",
     "output_type": "stream",
     "text": [
      "Omg I just tried the new burger at BurgerZone soooo delicious You guys HAVE to try it out It 's like heaven in a bun Check it out here https://burgerzone.com/new-burger-deal Alsooo I emailed them at foodlover@burgerzone.com for coupons # foodie # yum # bestburgerever 100/10 would recommend\n"
     ]
    }
   ],
   "source": [
    "# Unwanted detailed POS tags (Penn Treebank tags)\n",
    "remove_tags = {\".\",\":\"}\n",
    "\n",
    "# Remove tokens with unwanted tags\n",
    "cleaned_tokens = [token.text for token in doc2 if token.tag_ not in remove_tags]\n",
    "\n",
    "# Join tokens into cleaned text\n",
    "cleaned_text2 = \" \".join(cleaned_tokens)\n",
    "\n",
    "print(cleaned_text2)"
   ]
  },
  {
   "cell_type": "code",
   "execution_count": 94,
   "id": "1f1f866d",
   "metadata": {},
   "outputs": [],
   "source": [
    "doc3 = nlp(cleaned_text2)"
   ]
  },
  {
   "cell_type": "code",
   "execution_count": 95,
   "id": "e2dd3e13",
   "metadata": {},
   "outputs": [
    {
     "name": "stdout",
     "output_type": "stream",
     "text": [
      "Omg| PROPN | proper noun | noun, proper singular | NNP\n",
      "I| PRON | pronoun | pronoun, personal | PRP\n",
      "just| ADV | adverb | adverb | RB\n",
      "tried| VERB | verb | verb, past tense | VBD\n",
      "the| DET | determiner | determiner | DT\n",
      "new| ADJ | adjective | adjective (English), other noun-modifier (Chinese) | JJ\n",
      "burger| NOUN | noun | noun, singular or mass | NN\n",
      "at| ADP | adposition | conjunction, subordinating or preposition | IN\n",
      "BurgerZone| NOUN | noun | noun, singular or mass | NN\n",
      "soooo| NOUN | noun | noun, singular or mass | NN\n",
      "delicious| NOUN | noun | noun, singular or mass | NN\n",
      "You| PRON | pronoun | pronoun, personal | PRP\n",
      "guys| NOUN | noun | noun, plural | NNS\n",
      "HAVE| VERB | verb | verb, non-3rd person singular present | VBP\n",
      "to| PART | particle | infinitival \"to\" | TO\n",
      "try| VERB | verb | verb, base form | VB\n",
      "it| PRON | pronoun | pronoun, personal | PRP\n",
      "out| ADP | adposition | adverb, particle | RP\n",
      "It| PRON | pronoun | pronoun, personal | PRP\n",
      "'s| AUX | auxiliary | verb, 3rd person singular present | VBZ\n",
      "like| ADP | adposition | conjunction, subordinating or preposition | IN\n",
      "heaven| PROPN | proper noun | noun, proper singular | NNP\n",
      "in| ADP | adposition | conjunction, subordinating or preposition | IN\n",
      "a| DET | determiner | determiner | DT\n",
      "bun| NOUN | noun | noun, singular or mass | NN\n",
      "Check| VERB | verb | verb, base form | VB\n",
      "it| PRON | pronoun | pronoun, personal | PRP\n",
      "out| ADV | adverb | adverb | RB\n",
      "here| ADV | adverb | adverb | RB\n",
      "https://burgerzone.com/new-burger-deal| PUNCT | punctuation | closing quotation mark | ''\n",
      "Alsooo| PROPN | proper noun | noun, proper singular | NNP\n",
      "I| PRON | pronoun | pronoun, personal | PRP\n",
      "emailed| VERB | verb | verb, past tense | VBD\n",
      "them| PRON | pronoun | pronoun, personal | PRP\n",
      "at| ADP | adposition | conjunction, subordinating or preposition | IN\n",
      "foodlover@burgerzone.com| X | other | email | ADD\n",
      "for| SCONJ | subordinating conjunction | conjunction, subordinating or preposition | IN\n",
      "coupons| NOUN | noun | noun, plural | NNS\n",
      "#| NOUN | noun | noun, singular or mass | NN\n",
      "foodie| VERB | verb | verb, non-3rd person singular present | VBP\n",
      "#| NOUN | noun | noun, singular or mass | NN\n",
      "yum| INTJ | interjection | interjection | UH\n",
      "#| NOUN | noun | noun, singular or mass | NN\n",
      "bestburgerever| NOUN | noun | noun, singular or mass | NN\n",
      "100/10| PROPN | proper noun | noun, proper singular | NNP\n",
      "would| AUX | auxiliary | verb, modal auxiliary | MD\n",
      "recommend| VERB | verb | verb, base form | VB\n"
     ]
    }
   ],
   "source": [
    "for token in doc3:\n",
    "    print(f\"{token.text}| {token.pos_} | {spacy.explain(token.pos_)} | {spacy.explain(token.tag_)} | {token.tag_}\")\n"
   ]
  }
 ],
 "metadata": {
  "kernelspec": {
   "display_name": "Python 3",
   "language": "python",
   "name": "python3"
  },
  "language_info": {
   "codemirror_mode": {
    "name": "ipython",
    "version": 3
   },
   "file_extension": ".py",
   "mimetype": "text/x-python",
   "name": "python",
   "nbconvert_exporter": "python",
   "pygments_lexer": "ipython3",
   "version": "3.11.4"
  }
 },
 "nbformat": 4,
 "nbformat_minor": 5
}
